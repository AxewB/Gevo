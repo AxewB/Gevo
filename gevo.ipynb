{
 "cells": [
  {
   "cell_type": "markdown",
   "id": "f713fa73-0fee-48ea-8cf1-8e33f9ff8a8f",
   "metadata": {},
   "source": [
    "# Run & display stats"
   ]
  },
  {
   "cell_type": "code",
   "execution_count": 13,
   "id": "57586ce8-9794-4ba2-a0f4-9181960efb41",
   "metadata": {},
   "outputs": [],
   "source": [
    "import gc\n",
    "import os\n",
    "import datetime\n",
    "import numpy as np\n",
    "from tqdm.notebook import tqdm\n",
    "\n",
    "from sim import FunctionType, Simulation, StaticSimulation, SimulationResults, LinearSimulation, LinearSimulationStatic, LongstepSimulation, LongstepSimulationStatic, SimulationEnsemble\n",
    "from graph import GraphType, CompleteGraph, RingGraph, RocGraph, ErGraph, CompleteGraph\n",
    "from rw_utils import pickle_obj\n",
    "from db import SimulationDatabase, SimulationDirectory"
   ]
  },
  {
   "cell_type": "code",
   "execution_count": 14,
   "id": "289cb1d7-2ff8-4628-8864-e78881a8c9a5",
   "metadata": {},
   "outputs": [],
   "source": [
    "num_nodes = 100\n",
    "nums_edges = [220, 460, 1204]\n",
    "graph_types = [GraphType.ring, GraphType.roc, GraphType.er]\n",
    "\n",
    "# (GraphType, num_edges): Graph\n",
    "graphs = {\n",
    "    # (GraphType.complete, 4950): (CompleteGraph, {'num_nodes': num_nodes}),\n",
    "    (GraphType.ring, 220): (RingGraph, {'num_nodes': num_nodes, 'degree': 4}),\n",
    "    (GraphType.ring, 460): (RingGraph, {'num_nodes': num_nodes, 'degree': 10}),\n",
    "    (GraphType.ring, 1204): (RingGraph, {'num_nodes': num_nodes, 'degree': 24}),\n",
    "    (GraphType.er, 220): (ErGraph, {'num_nodes': num_nodes, 'num_edges': 220}),\n",
    "    (GraphType.er, 460): (ErGraph, {'num_nodes': num_nodes, 'num_edges': 460}),\n",
    "    (GraphType.er, 1204): (ErGraph, {'num_nodes': num_nodes, 'num_edges': 1204}),\n",
    "    (GraphType.roc, 220): (RocGraph, {'num_cliques': 20, 'clique_size': 5}),\n",
    "    (GraphType.roc, 460): (RocGraph, {'num_cliques': 10, 'clique_size': 10}),\n",
    "    (GraphType.roc, 1204): (RocGraph, {'num_cliques': 4, 'clique_size': 25})\n",
    "}\n",
    "\n",
    "# (FunctionType, static): Simulation\n",
    "simulations = {\n",
    "    (FunctionType.linear, False): LinearSimulation,\n",
    "    (FunctionType.longstep, False): LongstepSimulation,\n",
    "    (FunctionType.linear, True): LinearSimulationStatic,\n",
    "    (FunctionType.longstep, True): LongstepSimulationStatic\n",
    "}"
   ]
  },
  {
   "cell_type": "code",
   "execution_count": 15,
   "id": "4b5c1881-39a3-4c11-bcef-fb5f97ecb060",
   "metadata": {},
   "outputs": [],
   "source": [
    "num_runs = 5\n",
    "params = {\n",
    "    'graph': None,\n",
    "    'eps': 0.1,\n",
    "    'beta_0': 0.055,\n",
    "    'beta_1': 0.050,\n",
    "    'alpha_0': 0.0,\n",
    "    'alpha_1': 0.0,\n",
    "    'X': np.array([[.02, .98], [.02, .98]]),\n",
    "    'max_num_iter': 150_000\n",
    "}"
   ]
  },
  {
   "cell_type": "markdown",
   "id": "0eb91f6a-f898-41b7-843f-be6229cc2d9a",
   "metadata": {},
   "source": [
    "## Run"
   ]
  },
  {
   "cell_type": "markdown",
   "id": "42e5a96b-cf8d-4a33-b248-78ed14059a27",
   "metadata": {},
   "source": [
    "Careful with parameters for `Longstep, RocGraph(4x25)` and `Longstep, RingGraph(100,24)`."
   ]
  },
  {
   "cell_type": "code",
   "execution_count": null,
   "id": "744bccee-cdd5-44d9-868f-e62d6a13e2fe",
   "metadata": {},
   "outputs": [],
   "source": [
    "for (graph_type, num_edges), (graph_class, graph_params) in graphs.items():\n",
    "    for (func_type, static), simulation_class in simulations.items():\n",
    "        params['graph'] = graph_class(**graph_params)\n",
    "        sim = simulation_class(**params)\n",
    "        sim_ensemble = SimulationEnsemble(sim, num_runs)\n",
    "        sim_ensemble.run()"
   ]
  },
  {
   "cell_type": "markdown",
   "id": "a4aefcd0-b40b-4e1c-9c76-8ea7d6ad52e6",
   "metadata": {},
   "source": [
    "## Display stats"
   ]
  },
  {
   "cell_type": "code",
   "execution_count": null,
   "id": "98d5b819-51f5-4b48-9fb2-9bc50b27f73e",
   "metadata": {},
   "outputs": [],
   "source": [
    "sdb = SimulationDatabase(path='output')\n",
    "for (graph_type, num_edges), (_, graph_params) in graphs.items():\n",
    "    for (func_type, static), _ in simulations.items():\n",
    "        sdirs = [\n",
    "            sdir\n",
    "            for sdir in sdb.sdirs\n",
    "            if (sdir.sim.func_type == func_type) and\n",
    "            (static is isinstance(sdir.sim, StaticSimulation)) and\n",
    "            (num_edges - 70 <= sdir.sim.graph.graph.number_of_edges() <= num_edges + 70) and\n",
    "            (sdir.sim.graph.graph_type == graph_type)\n",
    "        ]\n",
    "        if len(sdirs) != 1:\n",
    "            raise RuntimeError(f\"Found {len(sdirs)} SimulationDirectories after filter. Expected 1.\")\n",
    "        sdir = sdirs[0]\n",
    "        sdir.cache()\n",
    "        sdir.info()\n",
    "        del sdir\n",
    "        gc.collect()"
   ]
  },
  {
   "cell_type": "markdown",
   "id": "8fb33139-7b86-4d13-bcc3-ac56702d082d",
   "metadata": {},
   "source": [
    "# Plot & animate"
   ]
  },
  {
   "cell_type": "code",
   "execution_count": 18,
   "id": "a85ca550-cbfc-477e-b257-8e6c0eba4bd4",
   "metadata": {},
   "outputs": [],
   "source": [
    "import os\n",
    "import gc\n",
    "import numpy as np\n",
    "from matplotlib import pyplot as plt\n",
    "\n",
    "from sim import FunctionType, StaticSimulation, FunctionType\n",
    "from graph import GraphType, RingGraph, RocGraph, ErGraph\n",
    "from plot import SigmaPlot\n",
    "from db import SimulationDatabase, SimulationDirectory\n",
    "from utils import sigma_mean, sigmas, pad\n",
    "from rw_utils import read_pickled, deserialize_boolean_array\n",
    "from animate import animate\n",
    "\n",
    "%matplotlib inline"
   ]
  },
  {
   "cell_type": "code",
   "execution_count": 19,
   "id": "78a7dfe7-1c60-440d-997a-c4efca955d63",
   "metadata": {},
   "outputs": [],
   "source": [
    "color = {\n",
    "    GraphType.ring: 'red',\n",
    "    GraphType.roc: 'green',\n",
    "    GraphType.er: 'blue',\n",
    "}\n",
    "\n",
    "x_right = {\n",
    "    FunctionType.linear: 2500,\n",
    "    FunctionType.longstep: 25000\n",
    "}\n",
    "\n",
    "label = {\n",
    "    GraphType.ring: 'k-рег. кольцо',\n",
    "    GraphType.roc: 'кольцо клик',\n",
    "    GraphType.er: 'ER',\n",
    "}"
   ]
  },
  {
   "cell_type": "markdown",
   "id": "0fffceb3-09c4-4f7f-a635-caf846b787b9",
   "metadata": {},
   "source": [
    "## Plot all"
   ]
  },
  {
   "cell_type": "code",
   "execution_count": null,
   "id": "9e2cffdd-891e-4df2-95e6-e750ba96059a",
   "metadata": {},
   "outputs": [],
   "source": [
    "statics = [\n",
    "    False,\n",
    "    True\n",
    "]\n",
    "\n",
    "func_types = [\n",
    "    FunctionType.linear,\n",
    "    FunctionType.longstep\n",
    "]\n",
    "\n",
    "nums_edges = [\n",
    "    220,\n",
    "    460,\n",
    "    1204\n",
    "]\n",
    "\n",
    "sdb = SimulationDatabase(path='output')\n",
    "for static in statics:\n",
    "    for func_type in func_types:\n",
    "        for num_edges in nums_edges:\n",
    "            \n",
    "            sdirs = [\n",
    "                sdir\n",
    "                for sdir in sdb.sdirs\n",
    "                if (sdir.sim.func_type == func_type) and\n",
    "                (static is isinstance(sdir.sim, StaticSimulation)) and\n",
    "                (num_edges - 70 <= sdir.sim.graph.graph.number_of_edges() <= num_edges + 70) and\n",
    "                (sdir.sim.graph.graph_type != GraphType.complete)\n",
    "            ]\n",
    "            if len(sdirs) != 3:\n",
    "                raise RuntimeError(f\"Expected 3 SimulationDirectories after filter, got {len(sdirs)}.\")\n",
    "            \n",
    "            sim = sdirs[1].sim\n",
    "            fname = f\"{sim.func_type}_e{sim.graph.graph.number_of_edges()}\" + \"_static\" * static + \".png\"\n",
    "            print(f\"{fname}:\")\n",
    "            splot = SigmaPlot(linewidth=3.5, alpha=.8, ax_tick_size=18, ax_label_size=28)\n",
    "            \n",
    "            gc.collect()\n",
    "            \n",
    "            for sdir in sdirs:\n",
    "                print(f'caching {sdir}...')\n",
    "                sdir.cache()\n",
    "            print()\n",
    "            x_max = max([sdir.t_max for sdir in sdirs])\n",
    "            \n",
    "            for sdir in sdirs:\n",
    "                splot.plot(sdir, color=color[sdir.sim.graph.graph_type], x_max=x_max, label=label[sdir.sim.graph.graph_type])\n",
    "            xright = 2500 if static else x_right[sim.func_type]\n",
    "            splot.update_axlims(x_right=xright)\n",
    "\n",
    "            # display\n",
    "            display(splot.fig)\n",
    "\n",
    "            # # save\n",
    "            # splot.fig.savefig(\n",
    "            #     os.path.join('plots', fname),\n",
    "            #     bbox_inches='tight',\n",
    "            #     pad_inches=0\n",
    "            # )"
   ]
  },
  {
   "cell_type": "markdown",
   "id": "1fb0e79e-d04a-439e-862a-c62468fb0cc2",
   "metadata": {},
   "source": [
    "## Plot three"
   ]
  },
  {
   "cell_type": "code",
   "execution_count": null,
   "id": "bcb50b85-164a-4b78-b236-1d8e1ec7185d",
   "metadata": {},
   "outputs": [],
   "source": [
    "num_edges = 1204\n",
    "sdb = SimulationDatabase(path='output')\n",
    "sdirs = [\n",
    "    sdir\n",
    "    for sdir in sdb.sdirs\n",
    "    if sdir.sim.func_type == FunctionType.linear and\n",
    "    not isinstance(sdir.sim, StaticSimulation) and\n",
    "    num_edges - 70 <= sdir.sim.graph.graph.number_of_edges() <= num_edges + 70 and\n",
    "    sdir.sim.graph.graph_type != GraphType.complete\n",
    "]\n",
    "print(sdirs)\n",
    "for sdir in sdirs:\n",
    "    sdir.cache()"
   ]
  },
  {
   "cell_type": "code",
   "execution_count": null,
   "id": "d0e20ebc-65eb-4d45-87bc-a80f49f74c7c",
   "metadata": {},
   "outputs": [],
   "source": [
    "%%capture\n",
    "x_max = max([sdir.t_max for sdir in sdirs])\n",
    "splot = SigmaPlot(linewidth=3.5, alpha=.8, ax_tick_size=18, ax_label_size=28)\n",
    "# splot.x_label = \"время\"\n",
    "# splot.y_label = \"доля вершин в состоянии 1\"\n",
    "# splot._setup()\n",
    "for sdir in sdirs:\n",
    "    splot.plot(sdir, color=color[sdir.sim.graph.graph_type], x_max=x_max)\n",
    "splot.update_axlims(x_right=2500)"
   ]
  },
  {
   "cell_type": "markdown",
   "id": "92993b4c-1ab3-48dc-af2b-da4bf6ff3008",
   "metadata": {},
   "source": [
    "### Display"
   ]
  },
  {
   "cell_type": "code",
   "execution_count": null,
   "id": "17cd326d-f63b-46af-a949-085048c25e86",
   "metadata": {},
   "outputs": [],
   "source": [
    "display(splot.fig)"
   ]
  },
  {
   "cell_type": "markdown",
   "id": "f1579d6e-96c2-4879-b09f-7a9b459e28fa",
   "metadata": {},
   "source": [
    "### Save"
   ]
  },
  {
   "cell_type": "code",
   "execution_count": 8,
   "id": "0a485cf5-088e-4d27-9374-dff0cdccd0ea",
   "metadata": {},
   "outputs": [],
   "source": [
    "splot.fig.savefig(\n",
    "    os.path.join('plots', fname),\n",
    "    bbox_inches='tight',\n",
    "    pad_inches=0\n",
    ")"
   ]
  },
  {
   "cell_type": "markdown",
   "id": "eed16dc3-72b6-4c1b-8c4c-97b14028f075",
   "metadata": {},
   "source": [
    "## Animate"
   ]
  },
  {
   "cell_type": "code",
   "execution_count": null,
   "id": "e3311ac6-39ae-40da-9130-f91be871b61e",
   "metadata": {},
   "outputs": [],
   "source": [
    "sdir = SimulationDirectory(\"output\\\\2023.12.06_19.43.01_longstep_er(n=100,m=1204)_static\")\n",
    "sr = read_pickled('4', path=sdir.path)\n",
    "animate(\n",
    "    sdir.sim,\n",
    "    sr,\n",
    "    filename='test',\n",
    "    path=sdir.path,\n",
    "    t_start=max(0, sr.t - 1000),\n",
    "    t_end=sr.t,\n",
    "    overwrite=True\n",
    ")"
   ]
  }
 ],
 "metadata": {
  "kernelspec": {
   "display_name": "Python 3 (ipykernel)",
   "language": "python",
   "name": "python3"
  },
  "language_info": {
   "codemirror_mode": {
    "name": "ipython",
    "version": 3
   },
   "file_extension": ".py",
   "mimetype": "text/x-python",
   "name": "python",
   "nbconvert_exporter": "python",
   "pygments_lexer": "ipython3",
   "version": "3.11.6"
  }
 },
 "nbformat": 4,
 "nbformat_minor": 5
}
